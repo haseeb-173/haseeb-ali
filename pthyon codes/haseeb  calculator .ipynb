{
 "cells": [
  {
   "cell_type": "code",
   "execution_count": null,
   "id": "43783cfc",
   "metadata": {},
   "outputs": [],
   "source": [
    "a=int(input('enter a='))\n",
    "b=int(input('enter b='))\n",
    "opt=input('enter opt')\n",
    "if opt=='sum':\n",
    "    d=a+b\n",
    "    print(d)\n",
    "elif opt=='sub':\n",
    "    m=a-b\n",
    "    print(m)\n",
    "elif opt=='mult':\n",
    "    n=a*b\n",
    "    print(n)\n",
    "elif opt=='divi':\n",
    "    p=a/b\n",
    "    print(p)\n",
    "    \n"
   ]
  },
  {
   "cell_type": "code",
   "execution_count": null,
   "id": "35bc44b4",
   "metadata": {},
   "outputs": [],
   "source": []
  },
  {
   "cell_type": "code",
   "execution_count": null,
   "id": "5c6e2ba7",
   "metadata": {},
   "outputs": [],
   "source": []
  },
  {
   "cell_type": "code",
   "execution_count": null,
   "id": "03a53614",
   "metadata": {},
   "outputs": [],
   "source": []
  }
 ],
 "metadata": {
  "kernelspec": {
   "display_name": "Python 3 (ipykernel)",
   "language": "python",
   "name": "python3"
  },
  "language_info": {
   "codemirror_mode": {
    "name": "ipython",
    "version": 3
   },
   "file_extension": ".py",
   "mimetype": "text/x-python",
   "name": "python",
   "nbconvert_exporter": "python",
   "pygments_lexer": "ipython3",
   "version": "3.9.7"
  }
 },
 "nbformat": 4,
 "nbformat_minor": 5
}
