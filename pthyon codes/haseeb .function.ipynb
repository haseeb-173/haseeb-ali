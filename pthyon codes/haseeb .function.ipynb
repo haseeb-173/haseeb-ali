{
 "cells": [
  {
   "cell_type": "markdown",
   "id": "b3ae83f6",
   "metadata": {},
   "source": [
    "## functions"
   ]
  },
  {
   "cell_type": "markdown",
   "id": "e992dd74",
   "metadata": {},
   "source": [
    "## function parameters"
   ]
  },
  {
   "cell_type": "code",
   "execution_count": 5,
   "id": "7ca03fd3",
   "metadata": {},
   "outputs": [],
   "source": [
    "def write_a_book(character, seting, special_skill):\n",
    " print(character + \"is in\"+ setting + \"practicing her\" + special_skill)"
   ]
  },
  {
   "cell_type": "markdown",
   "id": "b6c73976",
   "metadata": {},
   "source": [
    "## Multiple parameters"
   ]
  },
  {
   "cell_type": "code",
   "execution_count": 7,
   "id": "90141263",
   "metadata": {},
   "outputs": [],
   "source": [
    "def ready_for_school(backpack,pencil_case):\n",
    "    if(backpack== 'full'and pencil_case==\"full\"):\n",
    "        print(\"i'm ready for school \")"
   ]
  },
  {
   "cell_type": "markdown",
   "id": "ec50808e",
   "metadata": {},
   "source": [
    "## functions"
   ]
  },
  {
   "cell_type": "code",
   "execution_count": 8,
   "id": "ae822ddc",
   "metadata": {},
   "outputs": [
    {
     "name": "stdout",
     "output_type": "stream",
     "text": [
      "3\n",
      "9\n"
     ]
    }
   ],
   "source": [
    "def my_function(x):\n",
    "    return x + 1\n",
    "print(my_function(2))\n",
    "print(my_function(3+5))"
   ]
  },
  {
   "cell_type": "markdown",
   "id": "65b15e6e",
   "metadata": {},
   "source": [
    "## function identation"
   ]
  },
  {
   "cell_type": "code",
   "execution_count": 15,
   "id": "6082ac74",
   "metadata": {},
   "outputs": [
    {
     "name": "stdout",
     "output_type": "stream",
     "text": [
      "this is not part of testfunction\n"
     ]
    }
   ],
   "source": [
    "def testfunction(number):\n",
    " print(\"inside the testfunction\")\n",
    " sum = 0\n",
    " for x in range(number):\n",
    "        sum +=x\n",
    "        return sum\n",
    "print(\"this is not part of testfunction\")"
   ]
  },
  {
   "cell_type": "markdown",
   "id": "5ae6bacb",
   "metadata": {},
   "source": [
    "##  Function Arguments\n"
   ]
  },
  {
   "cell_type": "code",
   "execution_count": 18,
   "id": "4a9af5ab",
   "metadata": {},
   "outputs": [],
   "source": [
    "def sales(grocery_store, item_on_sale,cost):\n",
    "    print(grocery_store + \"is selling\" + item_on_sale + \"for\" + cost)\n",
    "    sales(\"the farmer's market\",\"toothpaste\",\"$1\")"
   ]
  },
  {
   "cell_type": "markdown",
   "id": "f25b8e10",
   "metadata": {},
   "source": [
    "## function keyword arguments\n"
   ]
  },
  {
   "cell_type": "code",
   "execution_count": 32,
   "id": "cabd1651",
   "metadata": {},
   "outputs": [
    {
     "name": "stdout",
     "output_type": "stream",
     "text": [
      "length = 1\n",
      "width = 2\n",
      "depth = 3\n",
      "length = 5\n",
      "width = 4\n",
      "depth = 2\n",
      "length = 2\n",
      "width = 4\n",
      "depth = 3\n"
     ]
    },
    {
     "data": {
      "text/plain": [
       "24"
      ]
     },
     "execution_count": 32,
     "metadata": {},
     "output_type": "execute_result"
    }
   ],
   "source": [
    "def findvolume(length=1,width=1,depth=1):\n",
    "    print(\"length = \" + str(length))\n",
    "    print(\"width = \" + str(width))\n",
    "    print(\"depth = \" + str(depth))\n",
    "    return length * width * depth;\n",
    "findvolume(1,2,3)\n",
    "findvolume(length=5,depth=2,width=4)\n",
    "findvolume(2,depth=3,width=4)\n"
   ]
  },
  {
   "cell_type": "markdown",
   "id": "ccf18eca",
   "metadata": {},
   "source": [
    "## returning multiple values"
   ]
  },
  {
   "cell_type": "code",
   "execution_count": 21,
   "id": "8c838bb7",
   "metadata": {},
   "outputs": [],
   "source": [
    "def square_point(x,y,z):\n",
    "    x_squared = x * x\n",
    "    y_squared = y * y\n",
    "    z_squared = z * z\n",
    "    return x_squared,y_squared,z_squared\n",
    "three_squared,four_squared,five_squared=square_point(3,4,5)\n"
   ]
  },
  {
   "cell_type": "markdown",
   "id": "46a25d79",
   "metadata": {},
   "source": [
    "## the scope of variables"
   ]
  },
  {
   "cell_type": "code",
   "execution_count": 24,
   "id": "883f1b8b",
   "metadata": {},
   "outputs": [],
   "source": [
    "a = 5\n",
    "def f1():\n",
    "    a=2\n",
    "    print(a)\n",
    "    f1()\n",
    "    "
   ]
  },
  {
   "cell_type": "markdown",
   "id": "8fe372eb",
   "metadata": {},
   "source": [
    "## Returning value from function"
   ]
  },
  {
   "cell_type": "code",
   "execution_count": 26,
   "id": "87d1b043",
   "metadata": {},
   "outputs": [],
   "source": [
    "def check_leap_year(year):\n",
    "    if year % 4 == 0:\n",
    "        return str(year) + \"is a leap year.\"\n",
    "    else:\n",
    "        return str(year) +\"is not a leap year.\"\n",
    "    year_to_check = 2018\n",
    "    returned_value= check_leap_year(year_to_check)\n",
    "    print(returned_value)"
   ]
  },
  {
   "cell_type": "markdown",
   "id": "aa2580f1",
   "metadata": {},
   "source": [
    "## Global variables"
   ]
  },
  {
   "cell_type": "code",
   "execution_count": 29,
   "id": "a483ab8d",
   "metadata": {},
   "outputs": [],
   "source": [
    "a = \"Hello\"\n",
    "def prints_a():\n",
    "    print(a)\n",
    "    prints_a()"
   ]
  },
  {
   "cell_type": "markdown",
   "id": "cc69b96e",
   "metadata": {},
   "source": [
    "## parameters as local variables"
   ]
  },
  {
   "cell_type": "code",
   "execution_count": 31,
   "id": "e56fceb5",
   "metadata": {},
   "outputs": [],
   "source": [
    "def my_funtion(value):\n",
    "    print(value)\n",
    "    my_function(7)\n",
    "    print(value)"
   ]
  },
  {
   "cell_type": "code",
   "execution_count": null,
   "id": "77aa4c32",
   "metadata": {},
   "outputs": [],
   "source": []
  }
 ],
 "metadata": {
  "kernelspec": {
   "display_name": "Python 3 (ipykernel)",
   "language": "python",
   "name": "python3"
  },
  "language_info": {
   "codemirror_mode": {
    "name": "ipython",
    "version": 3
   },
   "file_extension": ".py",
   "mimetype": "text/x-python",
   "name": "python",
   "nbconvert_exporter": "python",
   "pygments_lexer": "ipython3",
   "version": "3.9.7"
  }
 },
 "nbformat": 4,
 "nbformat_minor": 5
}
