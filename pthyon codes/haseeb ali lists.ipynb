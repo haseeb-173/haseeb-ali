{
 "cells": [
  {
   "cell_type": "code",
   "execution_count": null,
   "id": "379252e9",
   "metadata": {},
   "outputs": [],
   "source": []
  },
  {
   "cell_type": "code",
   "execution_count": 1,
   "id": "308b92df",
   "metadata": {},
   "outputs": [
    {
     "data": {
      "text/plain": [
       "6"
      ]
     },
     "execution_count": 1,
     "metadata": {},
     "output_type": "execute_result"
    }
   ],
   "source": [
    "a=2\n",
    "b=4\n",
    "a+b"
   ]
  },
  {
   "cell_type": "code",
   "execution_count": 2,
   "id": "523b24e0",
   "metadata": {},
   "outputs": [
    {
     "data": {
      "text/plain": [
       "30"
      ]
     },
     "execution_count": 2,
     "metadata": {},
     "output_type": "execute_result"
    }
   ],
   "source": [
    "a=40\n",
    "b=10\n",
    "a-b"
   ]
  },
  {
   "cell_type": "code",
   "execution_count": 3,
   "id": "7bcfaa91",
   "metadata": {},
   "outputs": [
    {
     "data": {
      "text/plain": [
       "90"
      ]
     },
     "execution_count": 3,
     "metadata": {},
     "output_type": "execute_result"
    }
   ],
   "source": [
    "a=15\n",
    "b=6\n",
    "a*b"
   ]
  },
  {
   "cell_type": "code",
   "execution_count": 4,
   "id": "5581db42",
   "metadata": {},
   "outputs": [
    {
     "data": {
      "text/plain": [
       "10.0"
      ]
     },
     "execution_count": 4,
     "metadata": {},
     "output_type": "execute_result"
    }
   ],
   "source": [
    "a=50\n",
    "b=5\n",
    "a/b"
   ]
  },
  {
   "cell_type": "code",
   "execution_count": 6,
   "id": "9359d327",
   "metadata": {},
   "outputs": [
    {
     "name": "stdout",
     "output_type": "stream",
     "text": [
      "hi!what's your name?haseeb ali\n",
      "nice to meet youhaseeb ali!\n",
      "how old are you23\n",
      "so, you are already23years old,haseeb ali!\n"
     ]
    }
   ],
   "source": [
    "name=input(\"hi!what's your name?\")\n",
    "print(\"nice to meet you\"+name +\"!\")\n",
    "age=input(\"how old are you\")\n",
    "print(\"so, you are already\" +str(age)+ \"years old,\"+name+\"!\")"
   ]
  },
  {
   "cell_type": "markdown",
   "id": "30059105",
   "metadata": {},
   "source": [
    "## List"
   ]
  },
  {
   "cell_type": "code",
   "execution_count": 8,
   "id": "86c78757",
   "metadata": {},
   "outputs": [
    {
     "name": "stdout",
     "output_type": "stream",
     "text": [
      "[2, 3, 5, 7, 11]\n"
     ]
    }
   ],
   "source": [
    "primes=[2,3,5,7,11]\n",
    "print(primes)\n",
    "empty_list=[]"
   ]
  },
  {
   "cell_type": "markdown",
   "id": "3ff8ef4b",
   "metadata": {},
   "source": [
    "## Adding lists together"
   ]
  },
  {
   "cell_type": "code",
   "execution_count": 9,
   "id": "021f99b5",
   "metadata": {},
   "outputs": [
    {
     "name": "stdout",
     "output_type": "stream",
     "text": [
      "['cake', 'cookie', 'bread', 'biscuit', 'tart']\n"
     ]
    }
   ],
   "source": [
    "items=['cake','cookie','bread']\n",
    "total_items=items+['biscuit','tart']\n",
    "print(total_items)\n"
   ]
  },
  {
   "cell_type": "markdown",
   "id": "61d168dd",
   "metadata": {},
   "source": [
    "##Python lists:Data types"
   ]
  },
  {
   "cell_type": "code",
   "execution_count": 10,
   "id": "050a051e",
   "metadata": {},
   "outputs": [],
   "source": [
    "numbers=[1,2,3,4,10]\n",
    "names=['jenny','sam','alexis']\n",
    "mixed=['jenny',1,2]\n",
    "list_of_lists=[['a',1],['b',2]]"
   ]
  },
  {
   "cell_type": "markdown",
   "id": "cde50f50",
   "metadata": {},
   "source": [
    "##Lists Method.apeend()"
   ]
  },
  {
   "cell_type": "code",
   "execution_count": 11,
   "id": "8e32e6b4",
   "metadata": {},
   "outputs": [
    {
     "name": "stdout",
     "output_type": "stream",
     "text": [
      "['daisies', 'periwinkle', 'tulips']\n"
     ]
    }
   ],
   "source": [
    "orders=['daisies','periwinkle']\n",
    "orders.append('tulips')\n",
    "print(orders)"
   ]
  },
  {
   "cell_type": "markdown",
   "id": "8c46f169",
   "metadata": {},
   "source": [
    "## zero-indexing"
   ]
  },
  {
   "cell_type": "code",
   "execution_count": 12,
   "id": "7d7a9728",
   "metadata": {},
   "outputs": [],
   "source": [
    "names=['Roger','Rafael','Andy','Novak']"
   ]
  },
  {
   "cell_type": "markdown",
   "id": "653288a8",
   "metadata": {},
   "source": [
    "## Lists indices"
   ]
  },
  {
   "cell_type": "code",
   "execution_count": 14,
   "id": "cc73e5a8",
   "metadata": {},
   "outputs": [
    {
     "data": {
      "text/plain": [
       "'rasberry'"
      ]
     },
     "execution_count": 14,
     "metadata": {},
     "output_type": "execute_result"
    }
   ],
   "source": [
    "berries=[\"blueberry\",\"cranberry\",\"rasberry\"]\n",
    "berries[0]\n",
    "berries[2]"
   ]
  },
  {
   "cell_type": "markdown",
   "id": "ab3c5a2b",
   "metadata": {},
   "source": [
    "## Negative Lists Indices"
   ]
  },
  {
   "cell_type": "code",
   "execution_count": 15,
   "id": "0a96065c",
   "metadata": {},
   "outputs": [
    {
     "data": {
      "text/plain": [
       "['milnestrone', 'lentill']"
      ]
     },
     "execution_count": 15,
     "metadata": {},
     "output_type": "execute_result"
    }
   ],
   "source": [
    "soups=['milnestrone','lentill','pho','lasks']\n",
    "soups[-1]\n",
    "soups[-3]\n",
    "soups[:-2]"
   ]
  },
  {
   "cell_type": "markdown",
   "id": "7346cf94",
   "metadata": {},
   "source": [
    "## Modifying 2D lists"
   ]
  },
  {
   "cell_type": "code",
   "execution_count": 15,
   "id": "cbad6d00",
   "metadata": {},
   "outputs": [
    {
     "name": "stdout",
     "output_type": "stream",
     "text": [
      "[['jenny', 'meditation'], ['alexus', 'photography'], ['grace', 'soccer']]\n"
     ]
    }
   ],
   "source": [
    "class_name_hobbies = [[\"jenny\",\"breakdancing\"],[\"alexus\",\"photography\"],[\"grace\",\"soccer\"]]\n",
    "class_name_hobbies[0][1] = \"meditation\"\n",
    "print(class_name_hobbies)\n"
   ]
  },
  {
   "cell_type": "markdown",
   "id": "c43b7edc",
   "metadata": {},
   "source": [
    "## Accessing 2d lists \n"
   ]
  },
  {
   "cell_type": "code",
   "execution_count": 16,
   "id": "a64c75cd",
   "metadata": {},
   "outputs": [
    {
     "name": "stdout",
     "output_type": "stream",
     "text": [
      "61\n"
     ]
    }
   ],
   "source": [
    "heights = [[\"noelle\",61],[\"Ali\",70],[\"sam\",67]]\n",
    "noelles_height = heights[0][1]\n",
    "print(noelles_height)"
   ]
  },
  {
   "cell_type": "markdown",
   "id": "131498a9",
   "metadata": {},
   "source": [
    "## List Method. remove()\n"
   ]
  },
  {
   "cell_type": "code",
   "execution_count": 17,
   "id": "de0d5d40",
   "metadata": {},
   "outputs": [
    {
     "name": "stdout",
     "output_type": "stream",
     "text": [
      "['cole', 'kip', 'chris', 'sylvana', 'chris']\n"
     ]
    }
   ],
   "source": [
    "shopping_line = [\"cole\",\"kip\",\"chris\",\"sylvana\",\"chris\"]\n",
    "print(shopping_line)\n"
   ]
  },
  {
   "cell_type": "markdown",
   "id": "5ed224a7",
   "metadata": {},
   "source": [
    "## list method.count()"
   ]
  },
  {
   "cell_type": "code",
   "execution_count": 18,
   "id": "5e4f7100",
   "metadata": {},
   "outputs": [
    {
     "name": "stdout",
     "output_type": "stream",
     "text": [
      "3\n"
     ]
    }
   ],
   "source": [
    "backpack = ['pencil','pen','notebook','textbook','pen','highlighter','pen']\n",
    "numpen = backpack.count('pen')\n",
    "print(numpen)"
   ]
  },
  {
   "cell_type": "markdown",
   "id": "6d6bbaab",
   "metadata": {},
   "source": [
    "## determining lists length with len()"
   ]
  },
  {
   "cell_type": "code",
   "execution_count": 19,
   "id": "fcc5258c",
   "metadata": {},
   "outputs": [
    {
     "name": "stdout",
     "output_type": "stream",
     "text": [
      "5\n"
     ]
    }
   ],
   "source": [
    "knapsack = [2,4,3,7,10]\n",
    "size = len(knapsack)\n",
    "print(size)\n"
   ]
  },
  {
   "cell_type": "markdown",
   "id": "4ad16927",
   "metadata": {},
   "source": [
    "## list method.sort ()"
   ]
  },
  {
   "cell_type": "code",
   "execution_count": 20,
   "id": "0e1b1235",
   "metadata": {},
   "outputs": [
    {
     "name": "stdout",
     "output_type": "stream",
     "text": [
      "[1, 3, 4, 5]\n"
     ]
    }
   ],
   "source": [
    "examplelist = [4,5,1,3]\n",
    "examplelist.sort()\n",
    "print(examplelist)"
   ]
  },
  {
   "cell_type": "markdown",
   "id": "dcc06fcb",
   "metadata": {},
   "source": [
    "## list slicing\n"
   ]
  },
  {
   "cell_type": "code",
   "execution_count": 23,
   "id": "b01675db",
   "metadata": {},
   "outputs": [
    {
     "name": "stdout",
     "output_type": "stream",
     "text": [
      "['pen', 'hammer', 'lever']\n"
     ]
    }
   ],
   "source": [
    "tools = ['pen','hammer','lever']\n",
    "tools_slice = tools[1:3]\n",
    "tools_slice[0] = 'nail'\n",
    "print(tools)\n"
   ]
  },
  {
   "cell_type": "markdown",
   "id": "a095237e",
   "metadata": {},
   "source": [
    "## sorted function"
   ]
  },
  {
   "cell_type": "code",
   "execution_count": 27,
   "id": "160b0a00",
   "metadata": {},
   "outputs": [
    {
     "name": "stdout",
     "output_type": "stream",
     "text": [
      "[1, 2, 3, 4]\n"
     ]
    }
   ],
   "source": [
    "unsortedlist = [4,2,1,3]\n",
    "sortedlist = sorted(unsortedlist)\n",
    "print(sortedlist)\n"
   ]
  },
  {
   "cell_type": "markdown",
   "id": "c02d3c6c",
   "metadata": {},
   "source": [
    "## list method.insert()"
   ]
  },
  {
   "cell_type": "code",
   "execution_count": null,
   "id": "3e71f2b0",
   "metadata": {},
   "outputs": [],
   "source": [
    "store_line = [\"karla\",\"maxium\",\"martim\",]"
   ]
  }
 ],
 "metadata": {
  "kernelspec": {
   "display_name": "Python 3 (ipykernel)",
   "language": "python",
   "name": "python3"
  },
  "language_info": {
   "codemirror_mode": {
    "name": "ipython",
    "version": 3
   },
   "file_extension": ".py",
   "mimetype": "text/x-python",
   "name": "python",
   "nbconvert_exporter": "python",
   "pygments_lexer": "ipython3",
   "version": "3.9.7"
  }
 },
 "nbformat": 4,
 "nbformat_minor": 5
}
