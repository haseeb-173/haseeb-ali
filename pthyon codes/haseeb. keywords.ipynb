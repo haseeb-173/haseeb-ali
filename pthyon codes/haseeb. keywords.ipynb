{
 "cells": [
  {
   "cell_type": "code",
   "execution_count": 9,
   "id": "d220a27f",
   "metadata": {},
   "outputs": [
    {
     "data": {
      "text/plain": [
       "(True, True)"
      ]
     },
     "execution_count": 9,
     "metadata": {},
     "output_type": "execute_result"
    }
   ],
   "source": [
    "False == (1 > 2), True == (2 > 1)"
   ]
  },
  {
   "cell_type": "code",
   "execution_count": 10,
   "id": "cc2fefde",
   "metadata": {},
   "outputs": [
    {
     "data": {
      "text/plain": [
       "True"
      ]
     },
     "execution_count": 10,
     "metadata": {},
     "output_type": "execute_result"
    }
   ],
   "source": [
    "x,y=True,False\n",
    "(x or y ) == True\n",
    "(x and y) == False\n",
    "(not y) == True"
   ]
  },
  {
   "cell_type": "code",
   "execution_count": 11,
   "id": "85a935d1",
   "metadata": {},
   "outputs": [],
   "source": [
    "while(True):\n",
    "    break\n",
    "    print(\"hello world\")"
   ]
  },
  {
   "cell_type": "code",
   "execution_count": null,
   "id": "f2f04f4e",
   "metadata": {},
   "outputs": [],
   "source": []
  },
  {
   "cell_type": "code",
   "execution_count": 1,
   "id": "49bdf00f",
   "metadata": {},
   "outputs": [
    {
     "name": "stdout",
     "output_type": "stream",
     "text": [
      "your value:6\n",
      "Big\n"
     ]
    }
   ],
   "source": [
    "x = int(input(\"your value:\"))\n",
    "if x > 5: print(\"Big\")\n",
    "elif x == 5: print(\"Medium\")\n",
    "else:print(\"Small\")"
   ]
  },
  {
   "cell_type": "code",
   "execution_count": 2,
   "id": "7cc1b750",
   "metadata": {},
   "outputs": [
    {
     "name": "stdout",
     "output_type": "stream",
     "text": [
      "0\n",
      "1\n",
      "2\n"
     ]
    }
   ],
   "source": [
    "j = 0\n",
    "while j < 3:\n",
    "    print(j)\n",
    "    j = j+1"
   ]
  },
  {
   "cell_type": "code",
   "execution_count": 3,
   "id": "6498bb17",
   "metadata": {},
   "outputs": [
    {
     "data": {
      "text/plain": [
       "True"
      ]
     },
     "execution_count": 3,
     "metadata": {},
     "output_type": "execute_result"
    }
   ],
   "source": [
    "42 in [2,39,42]"
   ]
  },
  {
   "cell_type": "code",
   "execution_count": 4,
   "id": "4271217a",
   "metadata": {},
   "outputs": [
    {
     "data": {
      "text/plain": [
       "False"
      ]
     },
     "execution_count": 4,
     "metadata": {},
     "output_type": "execute_result"
    }
   ],
   "source": [
    "y = x = 3\n",
    "x is y\n",
    "[3] is [3]"
   ]
  },
  {
   "cell_type": "code",
   "execution_count": 42,
   "id": "6bb2b9dd",
   "metadata": {},
   "outputs": [],
   "source": [
    "def f():\n",
    "    x = 2\n",
    "    f() is None"
   ]
  },
  {
   "cell_type": "code",
   "execution_count": 35,
   "id": "e6f3906f",
   "metadata": {},
   "outputs": [
    {
     "data": {
      "text/plain": [
       "6"
      ]
     },
     "execution_count": 35,
     "metadata": {},
     "output_type": "execute_result"
    }
   ],
   "source": [
    "(lambda x: x + 3)(3)"
   ]
  },
  {
   "cell_type": "code",
   "execution_count": 36,
   "id": "9b482760",
   "metadata": {},
   "outputs": [
    {
     "data": {
      "text/plain": [
       "5"
      ]
     },
     "execution_count": 36,
     "metadata": {},
     "output_type": "execute_result"
    }
   ],
   "source": [
    "def incrementor(x):\n",
    "    return x + 1\n",
    "incrementor(4)"
   ]
  },
  {
   "cell_type": "markdown",
   "id": "945ccdc9",
   "metadata": {},
   "source": [
    "## basic data types"
   ]
  },
  {
   "cell_type": "code",
   "execution_count": 52,
   "id": "22d63b68",
   "metadata": {},
   "outputs": [
    {
     "name": "stdout",
     "output_type": "stream",
     "text": [
      "True\n",
      "True\n"
     ]
    }
   ],
   "source": [
    "x, y = True, False\n",
    "print(x and not y)\n",
    "print(not x and y or x)\n"
   ]
  },
  {
   "cell_type": "code",
   "execution_count": 54,
   "id": "21e93c1f",
   "metadata": {},
   "outputs": [
    {
     "name": "stdout",
     "output_type": "stream",
     "text": [
      "5\n",
      "1\n",
      "6\n",
      "1.5\n",
      "1\n",
      "1\n",
      "-3\n",
      "3\n",
      "3\n",
      "3.0\n",
      "9\n"
     ]
    }
   ],
   "source": [
    "x, y = 3,2\n",
    "print(x + y)\n",
    "print(x - y)\n",
    "print(x * y)\n",
    "print(x / y)\n",
    "print(x // y)\n",
    "print(x % y)\n",
    "print(-x)\n",
    "print(abs(-x))\n",
    "print(int(3.9))\n",
    "print(float(3))\n",
    "print(x ** y)\n",
    "\n"
   ]
  },
  {
   "cell_type": "code",
   "execution_count": 58,
   "id": "4878811f",
   "metadata": {},
   "outputs": [
    {
     "name": "stdout",
     "output_type": "stream",
     "text": [
      "T\n",
      "he\n",
      "ol\n",
      "old\n",
      "11 old popes\n"
     ]
    }
   ],
   "source": [
    "s =\"The youngest pope was 11 years old\"\n",
    "print(s[0])\n",
    "print(s[1:3])\n",
    "print(s[-3:-1])\n",
    "print(s[-3:])\n",
    "x = s.split()\n",
    "print(x[-3] + \" \" + x[-1] + \" \" + x[2] +\"s\")"
   ]
  },
  {
   "cell_type": "code",
   "execution_count": 62,
   "id": "3b9e3335",
   "metadata": {},
   "outputs": [
    {
     "name": "stdout",
     "output_type": "stream",
     "text": [
      "This is lazy\n",
      "drdre\n",
      "ATTENTION\n",
      "True\n",
      "True\n",
      "2\n"
     ]
    }
   ],
   "source": [
    "y =\" This is lazy\\t\\n \"\n",
    "print(y.strip())\n",
    "print(\"DrDre\".lower())\n",
    "print(\"attention\".upper())\n",
    "print(\"smartphone\".startswith(\"smart\"))\n",
    "print(\"smartphone\".endswith(\"phone\"))\n",
    "print(\"another\".find(\"other\"))\n",
    "\n",
    "\n",
    "\n"
   ]
  },
  {
   "cell_type": "markdown",
   "id": "c68b9807",
   "metadata": {},
   "source": [
    "## complex data types\n"
   ]
  },
  {
   "cell_type": "code",
   "execution_count": 68,
   "id": "4d071231",
   "metadata": {},
   "outputs": [
    {
     "name": "stdout",
     "output_type": "stream",
     "text": [
      "3\n"
     ]
    }
   ],
   "source": [
    "l = [1,2,2]\n",
    "print(len(l))"
   ]
  },
  {
   "cell_type": "code",
   "execution_count": 89,
   "id": "688ecc61",
   "metadata": {},
   "outputs": [
    {
     "name": "stdout",
     "output_type": "stream",
     "text": [
      "[2, 2, 4]\n"
     ]
    }
   ],
   "source": [
    "A = [1, 2, 2, 4]\n",
    "A.remove(1)\n",
    "print(A)"
   ]
  },
  {
   "cell_type": "code",
   "execution_count": 92,
   "id": "8c98292e",
   "metadata": {},
   "outputs": [
    {
     "name": "stdout",
     "output_type": "stream",
     "text": [
      "[3, 42]\n",
      "[3]\n",
      "[]\n"
     ]
    }
   ],
   "source": [
    "stack = [3]\n",
    "stack.append(42)\n",
    "print(stack)\n",
    "stack.pop()\n",
    "print(stack)\n",
    "stack.pop()\n",
    "print(stack)"
   ]
  },
  {
   "cell_type": "code",
   "execution_count": 93,
   "id": "3c3075a1",
   "metadata": {},
   "outputs": [],
   "source": [
    "basket = {'apple','eggs','banana','orange'}\n",
    "same =  set(['apple','eggs','banana','orange'])\n"
   ]
  },
  {
   "cell_type": "code",
   "execution_count": 94,
   "id": "fdeaa493",
   "metadata": {},
   "outputs": [],
   "source": [
    "calories = {'apple':52, 'banana':89, 'choco':546}"
   ]
  },
  {
   "cell_type": "code",
   "execution_count": 106,
   "id": "4e609e2c",
   "metadata": {},
   "outputs": [
    {
     "name": "stdout",
     "output_type": "stream",
     "text": [
      "True\n",
      "False\n"
     ]
    }
   ],
   "source": [
    "basket = {'apple','eggs','banana','orange'}\n",
    "print('eggs' in basket) \n",
    "print('mushroom' in basket)"
   ]
  },
  {
   "cell_type": "code",
   "execution_count": 110,
   "id": "ba9f417d",
   "metadata": {},
   "outputs": [
    {
     "name": "stdout",
     "output_type": "stream",
     "text": [
      "['Hialice', 'Hibob', 'Hipete']\n",
      "[0, 0, 2]\n"
     ]
    }
   ],
   "source": [
    "l=[('Hi' + x)for x in ['alice','bob','pete']]\n",
    "print(l)\n",
    "l2 = [x * y for x in range(3)for y in range(3) if x>y]\n",
    "print(l2)\n"
   ]
  },
  {
   "cell_type": "markdown",
   "id": "f73de799",
   "metadata": {},
   "source": [
    "# Functions and tricks\n"
   ]
  },
  {
   "cell_type": "code",
   "execution_count": 115,
   "id": "81eb779b",
   "metadata": {},
   "outputs": [
    {
     "data": {
      "text/plain": [
       "['r', 'g', 'b']"
      ]
     },
     "execution_count": 115,
     "metadata": {},
     "output_type": "execute_result"
    }
   ],
   "source": [
    "list(map(lambda x: x[0], ['red','green','blue']))"
   ]
  },
  {
   "cell_type": "code",
   "execution_count": 116,
   "id": "f49655b0",
   "metadata": {},
   "outputs": [
    {
     "data": {
      "text/plain": [
       "['0 apples', '2 oranges', '2 bananas']"
      ]
     },
     "execution_count": 116,
     "metadata": {},
     "output_type": "execute_result"
    }
   ],
   "source": [
    "list(map(lambda x, y: str(x) +' '+ y + 's' ,[0,2,2],['apple','orange','banana']))"
   ]
  },
  {
   "cell_type": "code",
   "execution_count": 117,
   "id": "520bc50b",
   "metadata": {},
   "outputs": [
    {
     "data": {
      "text/plain": [
       "'alicemarriesbob'"
      ]
     },
     "execution_count": 117,
     "metadata": {},
     "output_type": "execute_result"
    }
   ],
   "source": [
    "'marries'.join(list(['alice','bob']))"
   ]
  },
  {
   "cell_type": "code",
   "execution_count": 125,
   "id": "d12fc1a6",
   "metadata": {},
   "outputs": [
    {
     "data": {
      "text/plain": [
       "[38]"
      ]
     },
     "execution_count": 125,
     "metadata": {},
     "output_type": "execute_result"
    }
   ],
   "source": [
    "list(filter(lambda x: True if x>17 else False,[1,15,17,38]))"
   ]
  },
  {
   "cell_type": "code",
   "execution_count": 127,
   "id": "0dbb7b92",
   "metadata": {},
   "outputs": [
    {
     "name": "stdout",
     "output_type": "stream",
     "text": [
      "42\n"
     ]
    }
   ],
   "source": [
    "print(\"\\n \\t 42 \\t\".strip())"
   ]
  },
  {
   "cell_type": "code",
   "execution_count": 128,
   "id": "f17e49c8",
   "metadata": {},
   "outputs": [
    {
     "data": {
      "text/plain": [
       "[2, 3, 5, 8, 42]"
      ]
     },
     "execution_count": 128,
     "metadata": {},
     "output_type": "execute_result"
    }
   ],
   "source": [
    "sorted([8,3,2,42,5])"
   ]
  },
  {
   "cell_type": "code",
   "execution_count": 134,
   "id": "7ca16e93",
   "metadata": {},
   "outputs": [
    {
     "ename": "SyntaxError",
     "evalue": "cannot assign to function call (Temp/ipykernel_1388/4072103582.py, line 1)",
     "output_type": "error",
     "traceback": [
      "\u001b[1;36m  File \u001b[1;32m\"C:\\Users\\EMBEDD~1\\AppData\\Local\\Temp/ipykernel_1388/4072103582.py\"\u001b[1;36m, line \u001b[1;32m1\u001b[0m\n\u001b[1;33m    sorted([8,3,2,42,5]),key=lambda x: 0 if x==42 else x)\u001b[0m\n\u001b[1;37m    ^\u001b[0m\n\u001b[1;31mSyntaxError\u001b[0m\u001b[1;31m:\u001b[0m cannot assign to function call\n"
     ]
    }
   ],
   "source": [
    "sorted([8,3,2,42,5]),key=lambda x: 0 if x==42 else x)"
   ]
  },
  {
   "cell_type": "code",
   "execution_count": null,
   "id": "3021ee17",
   "metadata": {},
   "outputs": [],
   "source": []
  }
 ],
 "metadata": {
  "kernelspec": {
   "display_name": "Python 3 (ipykernel)",
   "language": "python",
   "name": "python3"
  },
  "language_info": {
   "codemirror_mode": {
    "name": "ipython",
    "version": 3
   },
   "file_extension": ".py",
   "mimetype": "text/x-python",
   "name": "python",
   "nbconvert_exporter": "python",
   "pygments_lexer": "ipython3",
   "version": "3.9.7"
  }
 },
 "nbformat": 4,
 "nbformat_minor": 5
}
