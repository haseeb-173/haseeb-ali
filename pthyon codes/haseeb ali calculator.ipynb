{
 "cells": [
  {
   "cell_type": "code",
   "execution_count": null,
   "id": "ceb0545a",
   "metadata": {},
   "outputs": [],
   "source": [
    "a=int(input('enter a ='))\n",
    "b=int(input('enter b ='))\n",
    "opt=input('enter opt')\n",
    "if opt=='sum':\n",
    "    c=a+b\n",
    "    print(c)\n",
    "elif opt=='sub':\n",
    "    g= a-b\n",
    "    print(g)\n",
    "elif opt=='mult':\n",
    "    y=a*b\n",
    "    print(y)\n",
    "elif opt=='divi':\n",
    "    u=a/b\n",
    "    print(u)"
   ]
  },
  {
   "cell_type": "code",
   "execution_count": null,
   "id": "beafd498",
   "metadata": {},
   "outputs": [],
   "source": []
  },
  {
   "cell_type": "code",
   "execution_count": null,
   "id": "f82865d9",
   "metadata": {},
   "outputs": [],
   "source": []
  },
  {
   "cell_type": "code",
   "execution_count": null,
   "id": "069fd40d",
   "metadata": {},
   "outputs": [],
   "source": []
  }
 ],
 "metadata": {
  "kernelspec": {
   "display_name": "Python 3 (ipykernel)",
   "language": "python",
   "name": "python3"
  },
  "language_info": {
   "codemirror_mode": {
    "name": "ipython",
    "version": 3
   },
   "file_extension": ".py",
   "mimetype": "text/x-python",
   "name": "python",
   "nbconvert_exporter": "python",
   "pygments_lexer": "ipython3",
   "version": "3.9.7"
  }
 },
 "nbformat": 4,
 "nbformat_minor": 5
}
