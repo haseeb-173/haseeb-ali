{
 "cells": [
  {
   "cell_type": "markdown",
   "id": "10c56825",
   "metadata": {},
   "source": [
    "## Loops "
   ]
  },
  {
   "cell_type": "markdown",
   "id": "c0714f62",
   "metadata": {},
   "source": [
    "## break keyword\n"
   ]
  },
  {
   "cell_type": "code",
   "execution_count": 2,
   "id": "51cc4e96",
   "metadata": {},
   "outputs": [
    {
     "name": "stdout",
     "output_type": "stream",
     "text": [
      "0\n",
      "254\n",
      "2\n",
      "negative number detected\n"
     ]
    }
   ],
   "source": [
    "numbers=[0,254,2,-1,3]\n",
    "for num in numbers:\n",
    "    if (num<0):\n",
    "        print(\"negative number detected\")\n",
    "        break\n",
    "    print(num)\n",
    "        "
   ]
  },
  {
   "cell_type": "markdown",
   "id": "607701de",
   "metadata": {},
   "source": [
    "## python list comprehension"
   ]
  },
  {
   "cell_type": "code",
   "execution_count": 3,
   "id": "dd1ea60e",
   "metadata": {},
   "outputs": [
    {
     "name": "stdout",
     "output_type": "stream",
     "text": [
      "[0, 4, 16, 36, 64]\n"
     ]
    }
   ],
   "source": [
    "result=[x**2for x in range(10) if x % 2 ==0]\n",
    "print (result)"
   ]
  },
  {
   "cell_type": "markdown",
   "id": "100cad1e",
   "metadata": {},
   "source": [
    "## python for loop "
   ]
  },
  {
   "cell_type": "code",
   "execution_count": 4,
   "id": "0d5ccfc1",
   "metadata": {},
   "outputs": [
    {
     "name": "stdout",
     "output_type": "stream",
     "text": [
      "1\n",
      "2\n",
      "3\n",
      "4\n",
      "5\n"
     ]
    }
   ],
   "source": [
    "nums=[1,2,3,4,5]\n",
    "for num in nums:\n",
    "    print(num)\n",
    "    "
   ]
  },
  {
   "cell_type": "markdown",
   "id": "e55b9a39",
   "metadata": {},
   "source": [
    "## The python continue keyword"
   ]
  },
  {
   "cell_type": "code",
   "execution_count": 6,
   "id": "8323b58b",
   "metadata": {},
   "outputs": [],
   "source": [
    "big_number_list=[1,2,-1,4,-5,5,2,-9]\n",
    "for i in big_number_list:\n",
    "    if i < 0:\n",
    "        continue\n",
    "        print(i)"
   ]
  },
  {
   "cell_type": "markdown",
   "id": "bde32fda",
   "metadata": {},
   "source": [
    "## pyhthon loops with range()."
   ]
  },
  {
   "cell_type": "code",
   "execution_count": 11,
   "id": "f45ae844",
   "metadata": {},
   "outputs": [
    {
     "name": "stdout",
     "output_type": "stream",
     "text": [
      "0\n",
      "1\n",
      "2\n",
      "warning\n",
      "warning\n",
      "warning\n"
     ]
    }
   ],
   "source": [
    "for i in range(3):\n",
    "    print(i)\n",
    "for i in range(3):\n",
    "    print(\"warning\")\n",
    "        "
   ]
  },
  {
   "cell_type": "markdown",
   "id": "9cb815ea",
   "metadata": {},
   "source": [
    "## infinite loops"
   ]
  },
  {
   "cell_type": "markdown",
   "id": "10bd7bb6",
   "metadata": {},
   "source": [
    "## python while loops"
   ]
  },
  {
   "cell_type": "code",
   "execution_count": 12,
   "id": "de973ac8",
   "metadata": {},
   "outputs": [
    {
     "name": "stdout",
     "output_type": "stream",
     "text": [
      "1\n",
      "2\n",
      "3\n",
      "4\n",
      "5\n"
     ]
    }
   ],
   "source": [
    "i=1\n",
    "while i < 6:\n",
    "    print(i)\n",
    "    i=i+1\n",
    "    "
   ]
  },
  {
   "cell_type": "markdown",
   "id": "cb2345b5",
   "metadata": {},
   "source": [
    "## python nested loops\n"
   ]
  },
  {
   "cell_type": "code",
   "execution_count": 1,
   "id": "920781b4",
   "metadata": {},
   "outputs": [
    {
     "name": "stdout",
     "output_type": "stream",
     "text": [
      "jobs\n",
      "gates\n",
      "newton\n",
      "euclid\n",
      "einstein\n",
      "feynman\n"
     ]
    }
   ],
   "source": [
    "groups=[[\"jobs\",\"gates\"],[\"newton\",\"euclid\"],[\"einstein\",\"feynman\"]]\n",
    "for group in groups:\n",
    "    for name in group:\n",
    "        print(name)"
   ]
  },
  {
   "cell_type": "code",
   "execution_count": null,
   "id": "f7d71164",
   "metadata": {},
   "outputs": [],
   "source": []
  }
 ],
 "metadata": {
  "kernelspec": {
   "display_name": "Python 3 (ipykernel)",
   "language": "python",
   "name": "python3"
  },
  "language_info": {
   "codemirror_mode": {
    "name": "ipython",
    "version": 3
   },
   "file_extension": ".py",
   "mimetype": "text/x-python",
   "name": "python",
   "nbconvert_exporter": "python",
   "pygments_lexer": "ipython3",
   "version": "3.9.7"
  }
 },
 "nbformat": 4,
 "nbformat_minor": 5
}
